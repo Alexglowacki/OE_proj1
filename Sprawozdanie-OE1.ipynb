{
 "cells": [
  {
   "cell_type": "markdown",
   "source": [
    "# Sprawozdanie - Projekt 1 – implementacja klasycznego algorytmu genetycznego\n",
    "\n",
    "Autorzy:\n",
    "* Bojarski Bartosz\n",
    "* Głowacki Aleksander\n",
    "* Kandratsiuk Anastazja\n",
    "* Małek Robert\n",
    "\n",
    "Projekt został wykonany w języku Python w wersji 3.12.0.\n",
    "\n",
    "## Wykorzystane biblioteki \n",
    "- Tkinter ver. 8.6\n",
    "- Numpy ver. 1.26.1\n",
    "- Pandas ver. 2.1.1\n",
    "- Matplotlib ver. 3.8.0\n",
    "- ConfigParser ver. 6.0.0\n",
    "- Contourpy ver. 1.1.1\n",
    "- Cycler ver. 0.12.1\n",
    "- Fonttools ver. 4.43.1\n",
    "- Kiwisolver ver. 1.4.5\n",
    "- Packaging ver. 23.2\n",
    "- Pillow ver. 10.1.0\n",
    "- Pyparsing ver. 3.1.1\n",
    "- Six ver. 1.16.0\n",
    "- Benchmark Functions ver. 1.1.3\n",
    "- Scipy ver. 1.11.3"
   ],
   "metadata": {
    "collapsed": false
   },
   "id": "1a6190af2b884bca"
  },
  {
   "cell_type": "code",
   "execution_count": 32,
   "outputs": [],
   "source": [
    "#Import bibliotek\n",
    "\n",
    "from app.graphing import *\n",
    "import benchmark_functions as bf"
   ],
   "metadata": {
    "collapsed": false,
    "ExecuteTime": {
     "end_time": "2023-10-26T21:58:14.122342900Z",
     "start_time": "2023-10-26T21:58:14.096636600Z"
    }
   },
   "id": "a08ff749af7d088d"
  },
  {
   "cell_type": "markdown",
   "source": [
    "## Analizowana funkcja - Funkcja Rana\n",
    "\n",
    "Wykres poglądowy:"
   ],
   "metadata": {
    "collapsed": false
   },
   "id": "da29d473f4dd097b"
  },
  {
   "cell_type": "code",
   "execution_count": 30,
   "outputs": [
    {
     "ename": "AttributeError",
     "evalue": "'FigureCanvasAgg' object has no attribute 'set_window_title'",
     "output_type": "error",
     "traceback": [
      "\u001B[1;31m---------------------------------------------------------------------------\u001B[0m",
      "\u001B[1;31mAttributeError\u001B[0m                            Traceback (most recent call last)",
      "Cell \u001B[1;32mIn[30], line 2\u001B[0m\n\u001B[0;32m      1\u001B[0m func \u001B[38;5;241m=\u001B[39m bf\u001B[38;5;241m.\u001B[39mRana(n_dimensions\u001B[38;5;241m=\u001B[39m\u001B[38;5;241m2\u001B[39m)\n\u001B[1;32m----> 2\u001B[0m \u001B[43mfunc\u001B[49m\u001B[38;5;241;43m.\u001B[39;49m\u001B[43mshow\u001B[49m\u001B[43m(\u001B[49m\u001B[43mshowPoints\u001B[49m\u001B[38;5;241;43m=\u001B[39;49m\u001B[43mfunc\u001B[49m\u001B[38;5;241;43m.\u001B[39;49m\u001B[43mminima\u001B[49m\u001B[43m(\u001B[49m\u001B[43m)\u001B[49m\u001B[43m)\u001B[49m\n",
      "File \u001B[1;32m~\\AppData\\Local\\Programs\\Python\\Python312\\Lib\\site-packages\\benchmark_functions\\benchmark_functions.py:198\u001B[0m, in \u001B[0;36mBenchmarkFunction.show\u001B[1;34m(self, bounds, asHeatMap, resolution, showPoints)\u001B[0m\n\u001B[0;32m    196\u001B[0m \tZ \u001B[38;5;241m=\u001B[39m np\u001B[38;5;241m.\u001B[39masarray([[\u001B[38;5;28mself\u001B[39m((X[i][j],Y[i][j])) \u001B[38;5;28;01mfor\u001B[39;00m j \u001B[38;5;129;01min\u001B[39;00m \u001B[38;5;28mrange\u001B[39m(\u001B[38;5;28mlen\u001B[39m(X[i]))] \u001B[38;5;28;01mfor\u001B[39;00m i \u001B[38;5;129;01min\u001B[39;00m \u001B[38;5;28mrange\u001B[39m(\u001B[38;5;28mlen\u001B[39m(X))])\n\u001B[0;32m    197\u001B[0m fig \u001B[38;5;241m=\u001B[39m plt\u001B[38;5;241m.\u001B[39mfigure()\n\u001B[1;32m--> 198\u001B[0m \u001B[43mfig\u001B[49m\u001B[38;5;241;43m.\u001B[39;49m\u001B[43mcanvas\u001B[49m\u001B[38;5;241;43m.\u001B[39;49m\u001B[43mset_window_title\u001B[49m(\u001B[38;5;124m'\u001B[39m\u001B[38;5;124mBenchmark Function: \u001B[39m\u001B[38;5;124m'\u001B[39m\u001B[38;5;241m+\u001B[39m\u001B[38;5;28mself\u001B[39m\u001B[38;5;241m.\u001B[39m_name)\n\u001B[0;32m    199\u001B[0m fig\u001B[38;5;241m.\u001B[39msuptitle(\u001B[38;5;28mself\u001B[39m\u001B[38;5;241m.\u001B[39m_name)\n\u001B[0;32m    200\u001B[0m \u001B[38;5;28;01mif\u001B[39;00m asHeatMap:\n",
      "\u001B[1;31mAttributeError\u001B[0m: 'FigureCanvasAgg' object has no attribute 'set_window_title'"
     ]
    },
    {
     "data": {
      "text/plain": "<Figure size 640x480 with 0 Axes>"
     },
     "metadata": {},
     "output_type": "display_data"
    }
   ],
   "source": [
    "func = bf.Rana(n_dimensions=2)\n",
    "func.show(asHeatMap=True)"
   ],
   "metadata": {
    "collapsed": false,
    "ExecuteTime": {
     "end_time": "2023-10-26T21:54:12.419717900Z",
     "start_time": "2023-10-26T21:54:12.370991900Z"
    }
   },
   "id": "9d08a6cd5e714b0d"
  },
  {
   "cell_type": "markdown",
   "source": [
    "## Uruchomienie programu"
   ],
   "metadata": {
    "collapsed": false
   },
   "id": "fba3e1ddf623d7fe"
  },
  {
   "cell_type": "code",
   "execution_count": null,
   "outputs": [],
   "source": [
    "! python main.py"
   ],
   "metadata": {
    "collapsed": false
   },
   "id": "35a8503fda590a37"
  },
  {
   "cell_type": "markdown",
   "source": [
    "## Zczytanie danych z obliczonego wcześniej programu"
   ],
   "metadata": {
    "collapsed": false
   },
   "id": "45dee61110993867"
  },
  {
   "cell_type": "code",
   "execution_count": 34,
   "outputs": [
    {
     "name": "stdout",
     "output_type": "stream",
     "text": [
      "C:/Users/Hyperbook/Documents/Magister/OE1/OE1/csv_files/test.csv\n"
     ]
    },
    {
     "ename": "ValueError",
     "evalue": "x and y must have same first dimension, but have shapes (50,) and (10,)",
     "output_type": "error",
     "traceback": [
      "\u001B[1;31m---------------------------------------------------------------------------\u001B[0m",
      "\u001B[1;31mValueError\u001B[0m                                Traceback (most recent call last)",
      "Cell \u001B[1;32mIn[34], line 3\u001B[0m\n\u001B[0;32m      1\u001B[0m \u001B[38;5;66;03m#Tutaj teoretycznie będą 3 subploty, więc wtedy można to opisać w ten sposób, ale ja bym je jakoś rozdzielił, tak jak w tych punktach poniżej.\u001B[39;00m\n\u001B[1;32m----> 3\u001B[0m \u001B[43mgraph_results\u001B[49m\u001B[43m(\u001B[49m\u001B[43m)\u001B[49m\n",
      "File \u001B[1;32m~\\Documents\\Magister\\OE1\\OE1\\app\\graphing.py:42\u001B[0m, in \u001B[0;36mgraph_results\u001B[1;34m()\u001B[0m\n\u001B[0;32m     40\u001B[0m \n\u001B[0;32m     41\u001B[0m     ax1.set_title('Function value')\n\u001B[1;32m---> 42\u001B[0m     ax1.plot(x_vals, y1_vals)\n\u001B[0;32m     43\u001B[0m \n\u001B[0;32m     44\u001B[0m     ax2.set_title('Avg. value')\n",
      "File \u001B[1;32m~\\AppData\\Local\\Programs\\Python\\Python312\\Lib\\site-packages\\matplotlib\\axes\\_axes.py:1721\u001B[0m, in \u001B[0;36mAxes.plot\u001B[1;34m(self, scalex, scaley, data, *args, **kwargs)\u001B[0m\n\u001B[0;32m   1478\u001B[0m \u001B[38;5;250m\u001B[39m\u001B[38;5;124;03m\"\"\"\u001B[39;00m\n\u001B[0;32m   1479\u001B[0m \u001B[38;5;124;03mPlot y versus x as lines and/or markers.\u001B[39;00m\n\u001B[0;32m   1480\u001B[0m \n\u001B[1;32m   (...)\u001B[0m\n\u001B[0;32m   1718\u001B[0m \u001B[38;5;124;03m(``'green'``) or hex strings (``'#008000'``).\u001B[39;00m\n\u001B[0;32m   1719\u001B[0m \u001B[38;5;124;03m\"\"\"\u001B[39;00m\n\u001B[0;32m   1720\u001B[0m kwargs \u001B[38;5;241m=\u001B[39m cbook\u001B[38;5;241m.\u001B[39mnormalize_kwargs(kwargs, mlines\u001B[38;5;241m.\u001B[39mLine2D)\n\u001B[1;32m-> 1721\u001B[0m lines \u001B[38;5;241m=\u001B[39m [\u001B[38;5;241m*\u001B[39m\u001B[38;5;28mself\u001B[39m\u001B[38;5;241m.\u001B[39m_get_lines(\u001B[38;5;28mself\u001B[39m, \u001B[38;5;241m*\u001B[39margs, data\u001B[38;5;241m=\u001B[39mdata, \u001B[38;5;241m*\u001B[39m\u001B[38;5;241m*\u001B[39mkwargs)]\n\u001B[0;32m   1722\u001B[0m \u001B[38;5;28;01mfor\u001B[39;00m line \u001B[38;5;129;01min\u001B[39;00m lines:\n\u001B[0;32m   1723\u001B[0m     \u001B[38;5;28mself\u001B[39m\u001B[38;5;241m.\u001B[39madd_line(line)\n",
      "File \u001B[1;32m~\\AppData\\Local\\Programs\\Python\\Python312\\Lib\\site-packages\\matplotlib\\axes\\_base.py:303\u001B[0m, in \u001B[0;36m_process_plot_var_args.__call__\u001B[1;34m(self, axes, data, *args, **kwargs)\u001B[0m\n\u001B[0;32m    301\u001B[0m     this \u001B[38;5;241m+\u001B[39m\u001B[38;5;241m=\u001B[39m args[\u001B[38;5;241m0\u001B[39m],\n\u001B[0;32m    302\u001B[0m     args \u001B[38;5;241m=\u001B[39m args[\u001B[38;5;241m1\u001B[39m:]\n\u001B[1;32m--> 303\u001B[0m \u001B[38;5;28;01myield from\u001B[39;00m \u001B[38;5;28;43mself\u001B[39;49m\u001B[38;5;241;43m.\u001B[39;49m\u001B[43m_plot_args\u001B[49m\u001B[43m(\u001B[49m\n\u001B[0;32m    304\u001B[0m \u001B[43m    \u001B[49m\u001B[43maxes\u001B[49m\u001B[43m,\u001B[49m\u001B[43m \u001B[49m\u001B[43mthis\u001B[49m\u001B[43m,\u001B[49m\u001B[43m \u001B[49m\u001B[43mkwargs\u001B[49m\u001B[43m,\u001B[49m\u001B[43m \u001B[49m\u001B[43mambiguous_fmt_datakey\u001B[49m\u001B[38;5;241;43m=\u001B[39;49m\u001B[43mambiguous_fmt_datakey\u001B[49m\u001B[43m)\u001B[49m\n",
      "File \u001B[1;32m~\\AppData\\Local\\Programs\\Python\\Python312\\Lib\\site-packages\\matplotlib\\axes\\_base.py:499\u001B[0m, in \u001B[0;36m_process_plot_var_args._plot_args\u001B[1;34m(self, axes, tup, kwargs, return_kwargs, ambiguous_fmt_datakey)\u001B[0m\n\u001B[0;32m    496\u001B[0m     axes\u001B[38;5;241m.\u001B[39myaxis\u001B[38;5;241m.\u001B[39mupdate_units(y)\n\u001B[0;32m    498\u001B[0m \u001B[38;5;28;01mif\u001B[39;00m x\u001B[38;5;241m.\u001B[39mshape[\u001B[38;5;241m0\u001B[39m] \u001B[38;5;241m!=\u001B[39m y\u001B[38;5;241m.\u001B[39mshape[\u001B[38;5;241m0\u001B[39m]:\n\u001B[1;32m--> 499\u001B[0m     \u001B[38;5;28;01mraise\u001B[39;00m \u001B[38;5;167;01mValueError\u001B[39;00m(\u001B[38;5;124mf\u001B[39m\u001B[38;5;124m\"\u001B[39m\u001B[38;5;124mx and y must have same first dimension, but \u001B[39m\u001B[38;5;124m\"\u001B[39m\n\u001B[0;32m    500\u001B[0m                      \u001B[38;5;124mf\u001B[39m\u001B[38;5;124m\"\u001B[39m\u001B[38;5;124mhave shapes \u001B[39m\u001B[38;5;132;01m{\u001B[39;00mx\u001B[38;5;241m.\u001B[39mshape\u001B[38;5;132;01m}\u001B[39;00m\u001B[38;5;124m and \u001B[39m\u001B[38;5;132;01m{\u001B[39;00my\u001B[38;5;241m.\u001B[39mshape\u001B[38;5;132;01m}\u001B[39;00m\u001B[38;5;124m\"\u001B[39m)\n\u001B[0;32m    501\u001B[0m \u001B[38;5;28;01mif\u001B[39;00m x\u001B[38;5;241m.\u001B[39mndim \u001B[38;5;241m>\u001B[39m \u001B[38;5;241m2\u001B[39m \u001B[38;5;129;01mor\u001B[39;00m y\u001B[38;5;241m.\u001B[39mndim \u001B[38;5;241m>\u001B[39m \u001B[38;5;241m2\u001B[39m:\n\u001B[0;32m    502\u001B[0m     \u001B[38;5;28;01mraise\u001B[39;00m \u001B[38;5;167;01mValueError\u001B[39;00m(\u001B[38;5;124mf\u001B[39m\u001B[38;5;124m\"\u001B[39m\u001B[38;5;124mx and y can be no greater than 2D, but have \u001B[39m\u001B[38;5;124m\"\u001B[39m\n\u001B[0;32m    503\u001B[0m                      \u001B[38;5;124mf\u001B[39m\u001B[38;5;124m\"\u001B[39m\u001B[38;5;124mshapes \u001B[39m\u001B[38;5;132;01m{\u001B[39;00mx\u001B[38;5;241m.\u001B[39mshape\u001B[38;5;132;01m}\u001B[39;00m\u001B[38;5;124m and \u001B[39m\u001B[38;5;132;01m{\u001B[39;00my\u001B[38;5;241m.\u001B[39mshape\u001B[38;5;132;01m}\u001B[39;00m\u001B[38;5;124m\"\u001B[39m)\n",
      "\u001B[1;31mValueError\u001B[0m: x and y must have same first dimension, but have shapes (50,) and (10,)"
     ]
    },
    {
     "data": {
      "text/plain": "<Figure size 640x480 with 3 Axes>",
      "image/png": "[encoded data removed]"
     },
     "metadata": {},
     "output_type": "display_data"
    }
   ],
   "source": [
    "#Tutaj teoretycznie będą 3 subploty, więc wtedy można to opisać w ten sposób, ale ja bym je jakoś rozdzielił, tak jak w tych punktach poniżej.\n",
    "\n",
    "graph_results()"
   ],
   "metadata": {
    "collapsed": false,
    "ExecuteTime": {
     "end_time": "2023-10-26T21:58:52.678659300Z",
     "start_time": "2023-10-26T21:58:50.693418600Z"
    }
   },
   "id": "da72740eccc4128c"
  },
  {
   "cell_type": "markdown",
   "source": [
    "## Wykresy zależności funkcji celu od iteracji"
   ],
   "metadata": {
    "collapsed": false
   },
   "id": "8e49b764b9570c96"
  },
  {
   "cell_type": "code",
   "execution_count": 28,
   "outputs": [],
   "source": [],
   "metadata": {
    "collapsed": false,
    "ExecuteTime": {
     "end_time": "2023-10-26T21:53:14.045461300Z",
     "start_time": "2023-10-26T21:53:14.040419800Z"
    }
   },
   "id": "613b623a8d13e085"
  },
  {
   "cell_type": "markdown",
   "source": [
    "## Średnie wartości w kolejnych iteracjach"
   ],
   "metadata": {
    "collapsed": false
   },
   "id": "adcd3993771709fa"
  },
  {
   "cell_type": "code",
   "execution_count": 28,
   "outputs": [],
   "source": [],
   "metadata": {
    "collapsed": false,
    "ExecuteTime": {
     "end_time": "2023-10-26T21:53:14.479113700Z",
     "start_time": "2023-10-26T21:53:14.475974700Z"
    }
   },
   "id": "42d65f4579b8416f"
  },
  {
   "cell_type": "markdown",
   "source": [
    "## Odchylenie standardowe w kolejnych iteracjach"
   ],
   "metadata": {
    "collapsed": false
   },
   "id": "c7c9eec5a53db467"
  },
  {
   "cell_type": "code",
   "execution_count": 28,
   "outputs": [],
   "source": [
    " "
   ],
   "metadata": {
    "collapsed": false,
    "ExecuteTime": {
     "end_time": "2023-10-26T21:53:15.362877700Z",
     "start_time": "2023-10-26T21:53:15.359798800Z"
    }
   },
   "id": "c3b1a8ec6157a733"
  },
  {
   "cell_type": "markdown",
   "source": [
    "## Porównanie wyników\n",
    "\n",
    "* Zakres ∈ <-512;512>\n",
    "* Populacja = 100\n",
    "* Liczba epok = 200\n",
    "* Precyzja = 0.1\n",
    "\n",
    "Konfiguarcja #1: \n",
    "* Prawdopodobieństwo mutacji: 0\n",
    "* Prawdopodobieństwo krzyżowania: 0.4 \n",
    "* Prawdopodobieństwo inwersji: 0.1\n",
    "* Wybrana strategia: Tournament\n",
    "* Rodzaj krzyzowania: Two Point\n",
    "* Wybrany rodzaj mutacji: n/a\n",
    "* Max, czy min: Min"
   ],
   "metadata": {
    "collapsed": false
   },
   "id": "597c83181470d809"
  },
  {
   "cell_type": "code",
   "execution_count": 28,
   "outputs": [],
   "source": [],
   "metadata": {
    "collapsed": false,
    "ExecuteTime": {
     "end_time": "2023-10-26T21:53:16.539900800Z",
     "start_time": "2023-10-26T21:53:16.535279200Z"
    }
   },
   "id": "4f5514f1c90e57a"
  },
  {
   "cell_type": "markdown",
   "source": [
    "Konfiguarcja #2: \n",
    "* Prawdopodobieństwo mutacji:\n",
    "* Prawdopodobieństwo krzyżowania:\n",
    "* Prawdopodobieństwo inwersji:\n",
    "* Wybrana strategia:\n",
    "* Rodzaj krzyzowania:\n",
    "* Wybrany rodzaj mutacji:\n",
    "* Max, czy min:"
   ],
   "metadata": {
    "collapsed": false
   },
   "id": "e59485ccc0495ba7"
  },
  {
   "cell_type": "code",
   "execution_count": null,
   "outputs": [],
   "source": [],
   "metadata": {
    "collapsed": false
   },
   "id": "4d818f929315eb85"
  },
  {
   "cell_type": "markdown",
   "source": [
    "Konfiguracja #3:\n",
    "* Prawdopodobieństwo mutacji:\n",
    "* Prawdopodobieństwo krzyżowania:\n",
    "* Prawdopodobieństwo inwersji:\n",
    "* Wybrana strategia:\n",
    "* Rodzaj krzyzowania:\n",
    "* Wybrany rodzaj mutacji:\n",
    "* Max, czy min:"
   ],
   "metadata": {
    "collapsed": false
   },
   "id": "8b97bc2c764240cb"
  },
  {
   "cell_type": "code",
   "execution_count": null,
   "outputs": [],
   "source": [],
   "metadata": {
    "collapsed": false
   },
   "id": "52e38b3e6b622789"
  },
  {
   "cell_type": "markdown",
   "source": [
    "Konfiguracja #4:\n",
    "* Prawdopodobieństwo mutacji:\n",
    "* Prawdopodobieństwo krzyżowania:\n",
    "* Prawdopodobieństwo inwersji:\n",
    "* Wybrana strategia:\n",
    "* Rodzaj krzyzowania:\n",
    "* Wybrany rodzaj mutacji:\n",
    "* Max, czy min:"
   ],
   "metadata": {
    "collapsed": false
   },
   "id": "2ca6d0bf9a0107a8"
  },
  {
   "cell_type": "code",
   "execution_count": null,
   "outputs": [],
   "source": [],
   "metadata": {
    "collapsed": false
   },
   "id": "c9c94a1a7c77fdc2"
  },
  {
   "cell_type": "markdown",
   "source": [
    "Tabela z porównaniem wyników:\n",
    "\n",
    "Będzie wstawiona, gdy będą wyniki."
   ],
   "metadata": {
    "collapsed": false
   },
   "id": "cdefa1dc198595af"
  },
  {
   "cell_type": "markdown",
   "source": [],
   "metadata": {
    "collapsed": false
   },
   "id": "c9fd1078b00fcd5b"
  }
 ],
 "metadata": {
  "kernelspec": {
   "display_name": "Python 3",
   "language": "python",
   "name": "python3"
  },
  "language_info": {
   "codemirror_mode": {
    "name": "ipython",
    "version": 2
   },
   "file_extension": ".py",
   "mimetype": "text/x-python",
   "name": "python",
   "nbconvert_exporter": "python",
   "pygments_lexer": "ipython2",
   "version": "2.7.6"
  }
 },
 "nbformat": 4,
 "nbformat_minor": 5
}
